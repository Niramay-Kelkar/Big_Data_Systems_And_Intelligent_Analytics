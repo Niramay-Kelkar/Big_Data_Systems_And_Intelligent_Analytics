{
 "cells": [
  {
   "cell_type": "code",
   "execution_count": 1,
   "id": "debd1a8e",
   "metadata": {},
   "outputs": [],
   "source": [
    "import requests"
   ]
  },
  {
   "cell_type": "code",
   "execution_count": 2,
   "id": "24f9e768",
   "metadata": {},
   "outputs": [],
   "source": [
    "\n",
    "url = \"http://127.0.0.1:8000/fin\"\n",
    "headers = {\n",
    "    \"location\": \"boston\",\n",
    "      \"year\": 2010,\n",
    "      \"month\": 10,\n",
    "      \"day\": 20\n",
    "    \n",
    "}\n",
    "\n",
    "req = requests.post(url, json = headers, stream = True)\n",
    "\n",
    "string = str(req.content)\n",
    "\n"
   ]
  },
  {
   "cell_type": "code",
   "execution_count": 3,
   "id": "5e329c4b",
   "metadata": {},
   "outputs": [
    {
     "name": "stdout",
     "output_type": "stream",
     "text": [
      "b'{\"detail\":\"Method Not Allowed\"}'\n"
     ]
    }
   ],
   "source": [
    "print(string)"
   ]
  },
  {
   "cell_type": "code",
   "execution_count": 4,
   "id": "08c815aa",
   "metadata": {},
   "outputs": [],
   "source": [
    "import requests\n",
    "import shutil\n",
    "r = requests.get(url, stream=True)\n",
    "with open('imgf.jpg', 'wb') as out_file:\n",
    "    shutil.copyfileobj(r.raw, out_file)\n",
    "\n"
   ]
  },
  {
   "cell_type": "code",
   "execution_count": 5,
   "id": "3ca21ded",
   "metadata": {},
   "outputs": [],
   "source": [
    "from PIL import Image\n",
    "\n",
    "#read the image\n",
    "im = Image.open(\"imgf.jpg\")\n",
    "\n",
    "#show image\n",
    "im.show()"
   ]
  }
 ],
 "metadata": {
  "kernelspec": {
   "display_name": "Python 3",
   "language": "python",
   "name": "python3"
  },
  "language_info": {
   "codemirror_mode": {
    "name": "ipython",
    "version": 3
   },
   "file_extension": ".py",
   "mimetype": "text/x-python",
   "name": "python",
   "nbconvert_exporter": "python",
   "pygments_lexer": "ipython3",
   "version": "3.8.8"
  }
 },
 "nbformat": 4,
 "nbformat_minor": 5
}
